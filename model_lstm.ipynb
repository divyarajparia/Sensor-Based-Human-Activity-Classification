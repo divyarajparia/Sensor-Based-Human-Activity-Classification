{
 "cells": [
  {
   "cell_type": "code",
   "execution_count": 14,
   "metadata": {},
   "outputs": [],
   "source": [
    "import pandas as pd\n",
    "import numpy as np\n",
    "import matplotlib.pyplot as plt\n",
    "from IPython.display import display\n",
    "import torch\n",
    "from torch.utils.data import TensorDataset, DataLoader\n",
    "from sklearn.model_selection import KFold\n",
    "import torch.nn as nn\n",
    "import torch.optim as optim\n",
    "from sklearn.preprocessing import MinMaxScaler\n",
    "\n",
    "\n",
    "pd.set_option('display.max_rows', None)\n",
    "pd.set_option('display.max_columns', None)"
   ]
  },
  {
   "cell_type": "code",
   "execution_count": 15,
   "metadata": {},
   "outputs": [],
   "source": [
    "#We first read the 2 data files\n",
    "df1 = pd.read_csv('pirvision_office_dataset1.csv')\n",
    "df2 = pd.read_csv('pirvision_office_dataset2.csv')"
   ]
  },
  {
   "cell_type": "code",
   "execution_count": 16,
   "metadata": {},
   "outputs": [
    {
     "name": "stdout",
     "output_type": "stream",
     "text": [
      "(7651, 59) (7651, 59) (15302, 59)\n"
     ]
    }
   ],
   "source": [
    "# #We first shuffle these 2 dataframes\n",
    "# df1 = df1.sample(frac = 1, random_state=1).reset_index(drop=True)\n",
    "# df2 = df2.sample(frac = 1, random_state=1).reset_index(drop=True)\n",
    "\n",
    "#We now merge these 2 dataframes\n",
    "df = pd.concat([df1, df2], ignore_index=True)\n",
    "\n",
    "#We print the shapes of all datafmrames\n",
    "print(df1.shape, df2.shape, df.shape)\n",
    "\n",
    "#Displaying the merged dataframe\n",
    "# display(df.head(100))\n"
   ]
  },
  {
   "cell_type": "code",
   "execution_count": 17,
   "metadata": {},
   "outputs": [
    {
     "data": {
      "text/plain": [
       "Temperature_F\n",
       "0    1142\n",
       "Name: count, dtype: int64"
      ]
     },
     "execution_count": 17,
     "metadata": {},
     "output_type": "execute_result"
    }
   ],
   "source": [
    "df[df['Label'] == 3]['Temperature_F'].value_counts()\n"
   ]
  },
  {
   "cell_type": "code",
   "execution_count": 18,
   "metadata": {},
   "outputs": [],
   "source": [
    "class lstm(nn.Module):\n",
    "    def __init__(self, input_size, hidden_size = 64, num_layers = 1, output_size = 32):\n",
    "        super(lstm, self).__init__()\n",
    "        self.lstm = nn.LSTM(input_size, hidden_size, num_layers, batch_first=True)\n",
    "        self.fc1 = nn.Linear(hidden_size, output_size)\n",
    "        self.relu = nn.ReLU()\n",
    "        self.fc2 = nn.Linear(output_size, 3)\n",
    "\n",
    "    def forward(self, x):\n",
    "        out, _ = self.lstm(x)\n",
    "        out = (out[:, -1, :])\n",
    "        out = self.relu(self.fc1(out))\n",
    "        out = (self.fc2(out))\n",
    "        return out"
   ]
  },
  {
   "cell_type": "code",
   "execution_count": 20,
   "metadata": {},
   "outputs": [
    {
     "name": "stdout",
     "output_type": "stream",
     "text": [
      "\n",
      "Fold 1\n",
      "Train label distribution: [10041  1321   879]\n",
      "Test label distribution: [2453  345  263]\n",
      "epoch 1, loss: 0.6307\n",
      "epoch 2, loss: 0.5927\n",
      "epoch 3, loss: 0.5929\n",
      "epoch 4, loss: 0.5926\n",
      "epoch 5, loss: 0.5927\n",
      "testing time\n",
      "fold 1 test accuracy: 0.8014\n",
      "\n",
      "Per-class accuracy:\n",
      "  Class 0: 2453/2453 correct (100.00%)\n",
      "  Class 1: 0/345 correct (0.00%)\n",
      "  Class 2: 0/263 correct (0.00%)\n",
      "\n",
      "Fold 2\n"
     ]
    }
   ],
   "source": [
    "import torch\n",
    "from torch.utils.data import Dataset, DataLoader\n",
    "\n",
    "# --- Custom Dataset class ---\n",
    "class TimeSeriesDataset(Dataset):\n",
    "    def __init__(self, X, y):\n",
    "        self.X = X\n",
    "        self.y = y\n",
    "\n",
    "    def __len__(self):\n",
    "        return len(self.X)\n",
    "\n",
    "    def __getitem__(self, idx):\n",
    "        sequence = self.X[idx][1:]\n",
    "        label = self.y[idx]\n",
    "        sequence_tensor = torch.tensor(sequence, dtype=torch.float32).unsqueeze(1)  # shape: (seq_len, 1)\n",
    "        label_tensor = torch.tensor(label, dtype=torch.long)\n",
    "        return sequence_tensor, label_tensor\n",
    "\n",
    "# --- Data prep ---\n",
    "X = df.drop(columns=[\"Label\", \"Date\", \"Time\"]).values\n",
    "\n",
    "label_map = {0: 0, 1: 1, 3: 2}\n",
    "y_raw = df[\"Label\"].values\n",
    "y = np.array([label_map[label] for label in y_raw])\n",
    "\n",
    "kf = KFold(n_splits=5, shuffle=True, random_state=0)\n",
    "\n",
    "input_size = 1  \n",
    "model = lstm(input_size=input_size)\n",
    "\n",
    "criterion = nn.CrossEntropyLoss()\n",
    "optimizer = optim.Adam(model.parameters(), lr=0.001)\n",
    "\n",
    "nb_epochs = 5\n",
    "batch_size = 64  # Adjustable\n",
    "\n",
    "for fold, (train_i, test_i) in enumerate(kf.split(X), 1):\n",
    "    print(f\"\\nFold {fold}\")\n",
    "    if fold == 2:\n",
    "        break\n",
    "\n",
    "    X_train, X_test = X[train_i], X[test_i]\n",
    "    y_train, y_test = y[train_i], y[test_i]\n",
    "\n",
    "    print(\"Train label distribution:\", np.bincount(y_train))\n",
    "    print(\"Test label distribution:\", np.bincount(y_test))\n",
    "\n",
    "    # --- Create DataLoader ---\n",
    "    train_dataset = TimeSeriesDataset(X_train, y_train)\n",
    "    train_loader = DataLoader(train_dataset, batch_size=batch_size, shuffle=True)\n",
    "\n",
    "    for epoch in range(nb_epochs):\n",
    "        total_loss = 0.0\n",
    "        model.train()\n",
    "        for sequences, labels in train_loader:\n",
    "            output = model(sequences)  # shape: (batch_size, num_classes)\n",
    "            loss = criterion(output, labels)\n",
    "\n",
    "            optimizer.zero_grad()\n",
    "            loss.backward()\n",
    "            optimizer.step()\n",
    "\n",
    "            total_loss += loss.item() * sequences.size(0)\n",
    "\n",
    "        avg_loss = total_loss / len(train_dataset)\n",
    "        print(f\"epoch {epoch+1}, loss: {avg_loss:.4f}\")\n",
    "\n",
    "    # --- Evaluation ---\n",
    "    print(\"testing time\")\n",
    "    model.eval()\n",
    "    correct = 0\n",
    "    total = 0\n",
    "\n",
    "    class_counts = {0: 0, 1: 0, 2: 0}\n",
    "    class_correct = {0: 0, 1: 0, 2: 0}\n",
    "\n",
    "    with torch.no_grad():\n",
    "        for i in range(X_test.shape[0]):\n",
    "            x = X_test[i]\n",
    "            sequence = x[1:]\n",
    "            label = y_test[i]\n",
    "\n",
    "            sequence_tensor = torch.tensor(sequence, dtype=torch.float32).unsqueeze(0).unsqueeze(2)\n",
    "\n",
    "            output = model(sequence_tensor)\n",
    "            predicted_class = torch.argmax(output, dim=1).item()\n",
    "\n",
    "            class_counts[label] += 1\n",
    "            if predicted_class == label:\n",
    "                correct += 1\n",
    "                class_correct[label] += 1\n",
    "            total += 1\n",
    "\n",
    "    accuracy = correct / total\n",
    "    print(f\"fold {fold} test accuracy: {accuracy:.4f}\")\n",
    "\n",
    "    print(\"\\nPer-class accuracy:\")\n",
    "    for cls in class_counts:\n",
    "        total_cls = class_counts[cls]\n",
    "        correct_cls = class_correct[cls]\n",
    "        acc_cls = correct_cls / total_cls if total_cls > 0 else 0.0\n",
    "        print(f\"  Class {cls}: {correct_cls}/{total_cls} correct ({acc_cls * 100:.2f}%)\")\n",
    "\n",
    "    model.train()\n"
   ]
  },
  {
   "cell_type": "code",
   "execution_count": null,
   "metadata": {},
   "outputs": [],
   "source": []
  }
 ],
 "metadata": {
  "kernelspec": {
   "display_name": "assignmentenv",
   "language": "python",
   "name": "python3"
  },
  "language_info": {
   "codemirror_mode": {
    "name": "ipython",
    "version": 3
   },
   "file_extension": ".py",
   "mimetype": "text/x-python",
   "name": "python",
   "nbconvert_exporter": "python",
   "pygments_lexer": "ipython3",
   "version": "3.8.20"
  }
 },
 "nbformat": 4,
 "nbformat_minor": 2
}
